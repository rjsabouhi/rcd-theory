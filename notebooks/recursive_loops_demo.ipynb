{
 "cells": [
  {
   "cell_type": "code",
   "execution_count": null,
   "id": "551a6942",
   "metadata": {},
   "outputs": [],
   "source": [
    "import sys\n",
    "sys.path.append('../src')  # this ensures imports work correctly\n",
    "\n",
    "from phase_space import simulate_phase_dynamics\n",
    "from alignment_metrics import compute_alignment_metrics\n",
    "from lake_state import evaluate_lake_state\n"
   ]
  }
 ],
 "metadata": {
  "language_info": {
   "name": "python"
  }
 },
 "nbformat": 4,
 "nbformat_minor": 5
}
